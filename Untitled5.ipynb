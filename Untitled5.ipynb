{
  "nbformat": 4,
  "nbformat_minor": 0,
  "metadata": {
    "colab": {
      "provenance": [],
      "authorship_tag": "ABX9TyP51XC7YUgjJPd2j5DzSleZ",
      "include_colab_link": true
    },
    "kernelspec": {
      "name": "python3",
      "display_name": "Python 3"
    },
    "language_info": {
      "name": "python"
    }
  },
  "cells": [
    {
      "cell_type": "markdown",
      "metadata": {
        "id": "view-in-github",
        "colab_type": "text"
      },
      "source": [
        "<a href=\"https://colab.research.google.com/github/gkaleeswari/mini-project-2/blob/main/Untitled5.ipynb\" target=\"_parent\"><img src=\"https://colab.research.google.com/assets/colab-badge.svg\" alt=\"Open In Colab\"/></a>"
      ]
    },
    {
      "cell_type": "code",
      "source": [
        "from itertools import combinations\n",
        "\n",
        "# Define the product list and their respective prices\n",
        "ProductList = {'p1': 10, 'p2': 15, 'p3': 20, 'p4': 25, 'p5': 30, 'p6': 35, 'p7': 50}\n",
        "\n",
        "# Define the range for total price sum\n",
        "min_sum = 290\n",
        "max_sum = 310\n",
        "\n",
        "# List to store valid combinations\n",
        "valid_combinations = []\n",
        "\n",
        "# Iterate over all possible combinations of products\n",
        "for r in range(1, len(ProductList) + 1):\n",
        "    for combo in combinations(ProductList.items(), r):\n",
        "        # Calculate the total price for the current combination\n",
        "        total_price = sum(price for product, price in combo)\n",
        "\n",
        "        # Check if total price is within the desired range\n",
        "        if min_sum <= total_price <= max_sum:\n",
        "            valid_combinations.append(combo)\n",
        "\n",
        "# Print the valid combinations found\n",
        "print(\"List of product combinations with total price between 290 and 310:\")\n",
        "for combination in valid_combinations:\n",
        "    print({product: price for product, price in combination})\n"
      ],
      "metadata": {
        "colab": {
          "base_uri": "https://localhost:8080/"
        },
        "id": "2y5B5DPiKoxA",
        "outputId": "38fad62e-e4da-439c-805b-d423aaf33872"
      },
      "execution_count": 4,
      "outputs": [
        {
          "output_type": "stream",
          "name": "stdout",
          "text": [
            "List of product combinations with total price between 290 and 310:\n"
          ]
        }
      ]
    },
    {
      "cell_type": "code",
      "source": [
        "# Step 1: Library inclusion\n",
        "import random as r\n",
        "\n",
        "# Step 2: Parameter Setting\n",
        "ProductList = {'p1':10, 'p2':15, 'p3':20, 'p4':25, 'p5':30, 'p6':35, 'p7':50,\n",
        "               'p8':40, 'p9':55, 'p10':60, 'p11':65, 'p12':75, 'p13':70,\n",
        "               'p14':45}\n",
        "LB = 290\n",
        "UB = 310\n",
        "ResultList = set()  # Store Result List i.e. list of sets whose sum is between 90 and 210.\n",
        "Iterations = 1000   # Number of Iterations\n",
        "\n",
        "# Step 3: Start Program\n",
        "for i in range(Iterations):\n",
        "    # Select combo size (i.e. number of products in a combo)\n",
        "    SetSize = r.randint(2, len(ProductList) - 1)\n",
        "\n",
        "    # Select elements from ProductList randomly\n",
        "    ComboList = r.sample(list(ProductList.keys()), SetSize)\n",
        "    ComboList.sort()  # Sort the list of product keys\n",
        "\n",
        "    # Sum the products in ComboList\n",
        "    ComboSum = sum(ProductList[i] for i in ComboList)\n",
        "\n",
        "    # Check if the sum is between LB and UB\n",
        "    if LB <= ComboSum <= UB:\n",
        "        ResultList.add(tuple(ComboList))\n",
        "\n",
        "# Step 4: Print all the sets whose sum is between LB and UB\n",
        "for r in ResultList:\n",
        "    print(r)\n",
        "\n",
        "# Step 5: Print total sets\n",
        "print(\"\\nTotal Sets: \", len(ResultList), \"\\n\")\n"
      ],
      "metadata": {
        "id": "mnaCNeEQL74p",
        "outputId": "ab8205b0-9f5d-4e69-fff9-7cc4d607358f",
        "colab": {
          "base_uri": "https://localhost:8080/"
        }
      },
      "execution_count": 5,
      "outputs": [
        {
          "output_type": "stream",
          "name": "stdout",
          "text": [
            "('p11', 'p3', 'p5', 'p6', 'p7', 'p8', 'p9')\n",
            "('p10', 'p13', 'p14', 'p3', 'p4', 'p6', 'p8')\n",
            "('p10', 'p11', 'p13', 'p3', 'p5', 'p7')\n",
            "('p1', 'p11', 'p12', 'p14', 'p2', 'p3', 'p5', 'p7')\n",
            "('p1', 'p11', 'p14', 'p2', 'p4', 'p6', 'p8', 'p9')\n",
            "('p10', 'p12', 'p13', 'p2', 'p3', 'p4', 'p5')\n",
            "('p1', 'p10', 'p12', 'p13', 'p3', 'p5', 'p6')\n",
            "('p11', 'p13', 'p2', 'p3', 'p4', 'p8', 'p9')\n",
            "('p11', 'p13', 'p2', 'p3', 'p5', 'p8', 'p9')\n",
            "('p11', 'p13', 'p14', 'p4', 'p7', 'p8')\n",
            "('p10', 'p11', 'p14', 'p3', 'p4', 'p6', 'p9')\n",
            "('p10', 'p11', 'p4', 'p5', 'p6', 'p7', 'p8')\n",
            "('p12', 'p13', 'p14', 'p2', 'p3', 'p4', 'p8')\n",
            "('p1', 'p10', 'p12', 'p2', 'p3', 'p4', 'p7', 'p9')\n",
            "('p1', 'p11', 'p12', 'p4', 'p5', 'p8', 'p9')\n",
            "('p10', 'p11', 'p14', 'p2', 'p3', 'p6', 'p7')\n",
            "('p10', 'p12', 'p2', 'p3', 'p5', 'p7', 'p8')\n",
            "('p10', 'p13', 'p14', 'p4', 'p8', 'p9')\n",
            "('p10', 'p12', 'p13', 'p14', 'p8')\n",
            "('p1', 'p10', 'p12', 'p2', 'p3', 'p5', 'p6', 'p7')\n",
            "('p11', 'p12', 'p14', 'p2', 'p3', 'p5', 'p9')\n",
            "('p1', 'p11', 'p14', 'p2', 'p5', 'p6', 'p8', 'p9')\n",
            "('p1', 'p10', 'p12', 'p3', 'p7', 'p8', 'p9')\n",
            "('p1', 'p12', 'p13', 'p2', 'p3', 'p5', 'p6', 'p9')\n",
            "('p1', 'p10', 'p12', 'p14', 'p4', 'p6', 'p7')\n",
            "('p1', 'p13', 'p2', 'p3', 'p4', 'p5', 'p6', 'p7', 'p9')\n",
            "('p10', 'p11', 'p14', 'p2', 'p4', 'p6', 'p9')\n",
            "('p1', 'p12', 'p14', 'p3', 'p4', 'p6', 'p7', 'p8')\n",
            "('p1', 'p11', 'p2', 'p3', 'p4', 'p5', 'p6', 'p7', 'p9')\n",
            "('p1', 'p10', 'p12', 'p3', 'p4', 'p5', 'p6', 'p9')\n",
            "('p1', 'p10', 'p11', 'p12', 'p14', 'p3', 'p5')\n",
            "('p1', 'p11', 'p13', 'p14', 'p2', 'p3', 'p5', 'p9')\n",
            "('p11', 'p13', 'p2', 'p4', 'p5', 'p6', 'p7')\n",
            "('p10', 'p11', 'p2', 'p4', 'p6', 'p8', 'p9')\n",
            "('p12', 'p2', 'p3', 'p6', 'p7', 'p8', 'p9')\n",
            "('p10', 'p13', 'p2', 'p3', 'p4', 'p5', 'p6', 'p7')\n",
            "('p11', 'p12', 'p13', 'p8', 'p9')\n",
            "('p1', 'p13', 'p14', 'p2', 'p4', 'p5', 'p8', 'p9')\n",
            "('p1', 'p10', 'p11', 'p13', 'p3', 'p5', 'p6')\n",
            "('p1', 'p13', 'p2', 'p4', 'p5', 'p6', 'p7', 'p9')\n",
            "('p1', 'p10', 'p12', 'p2', 'p4', 'p5', 'p6', 'p7')\n",
            "('p1', 'p13', 'p14', 'p2', 'p4', 'p5', 'p7', 'p9')\n",
            "('p10', 'p12', 'p14', 'p2', 'p3', 'p5', 'p7')\n",
            "('p13', 'p14', 'p2', 'p3', 'p6', 'p7', 'p9')\n",
            "('p1', 'p10', 'p13', 'p14', 'p2', 'p3', 'p4', 'p9')\n",
            "('p1', 'p10', 'p14', 'p2', 'p3', 'p4', 'p5', 'p7', 'p9')\n",
            "('p1', 'p10', 'p11', 'p14', 'p2', 'p4', 'p6', 'p9')\n",
            "('p1', 'p10', 'p11', 'p13', 'p6', 'p7')\n",
            "('p10', 'p11', 'p2', 'p4', 'p5', 'p7', 'p9')\n",
            "('p11', 'p14', 'p3', 'p4', 'p7', 'p8', 'p9')\n",
            "('p10', 'p13', 'p14', 'p5', 'p7', 'p8')\n",
            "('p1', 'p10', 'p13', 'p14', 'p5', 'p7', 'p8')\n",
            "('p10', 'p11', 'p13', 'p4', 'p6', 'p7')\n",
            "('p11', 'p12', 'p2', 'p4', 'p5', 'p7', 'p8')\n",
            "('p1', 'p11', 'p13', 'p14', 'p4', 'p5', 'p9')\n",
            "('p1', 'p13', 'p14', 'p2', 'p4', 'p6', 'p7', 'p8')\n",
            "('p11', 'p12', 'p3', 'p5', 'p7', 'p9')\n",
            "('p1', 'p10', 'p14', 'p2', 'p4', 'p5', 'p6', 'p7', 'p8')\n",
            "('p1', 'p11', 'p13', 'p3', 'p6', 'p8', 'p9')\n",
            "('p12', 'p13', 'p3', 'p7', 'p8', 'p9')\n",
            "('p10', 'p13', 'p14', 'p2', 'p5', 'p6', 'p7')\n",
            "\n",
            "Total Sets:  61 \n",
            "\n"
          ]
        }
      ]
    }
  ]
}