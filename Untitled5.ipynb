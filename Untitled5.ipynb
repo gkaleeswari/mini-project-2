{
  "nbformat": 4,
  "nbformat_minor": 0,
  "metadata": {
    "colab": {
      "provenance": [],
      "authorship_tag": "ABX9TyMLGf3toDp4C/o7wmWffMDJ",
      "include_colab_link": true
    },
    "kernelspec": {
      "name": "python3",
      "display_name": "Python 3"
    },
    "language_info": {
      "name": "python"
    }
  },
  "cells": [
    {
      "cell_type": "markdown",
      "metadata": {
        "id": "view-in-github",
        "colab_type": "text"
      },
      "source": [
        "<a href=\"https://colab.research.google.com/github/gkaleeswari/mini-project-2/blob/main/Untitled5.ipynb\" target=\"_parent\"><img src=\"https://colab.research.google.com/assets/colab-badge.svg\" alt=\"Open In Colab\"/></a>"
      ]
    },
    {
      "cell_type": "code",
      "source": [
        "from itertools import combinations\n",
        "\n",
        "# Define the product list and their respective prices\n",
        "ProductList = {'p1': 10, 'p2': 15, 'p3': 20, 'p4': 25, 'p5': 30, 'p6': 35, 'p7': 50}\n",
        "\n",
        "# Define the range for total price sum\n",
        "min_sum = 290\n",
        "max_sum = 310\n",
        "\n",
        "# List to store valid combinations\n",
        "valid_combinations = []\n",
        "\n",
        "# Iterate over all possible combinations of products\n",
        "for r in range(1, len(ProductList) + 1):\n",
        "    for combo in combinations(ProductList.items(), r):\n",
        "        # Calculate the total price for the current combination\n",
        "        total_price = sum(price for product, price in combo)\n",
        "\n",
        "        # Check if total price is within the desired range\n",
        "        if min_sum <= total_price <= max_sum:\n",
        "            valid_combinations.append(combo)\n",
        "\n",
        "# Print the valid combinations found\n",
        "print(\"List of product combinations with total price between 290 and 310:\")\n",
        "for combination in valid_combinations:\n",
        "    print({product: price for product, price in combination})\n"
      ],
      "metadata": {
        "id": "2y5B5DPiKoxA",
        "outputId": "38fad62e-e4da-439c-805b-d423aaf33872",
        "colab": {
          "base_uri": "https://localhost:8080/"
        }
      },
      "execution_count": 4,
      "outputs": [
        {
          "output_type": "stream",
          "name": "stdout",
          "text": [
            "List of product combinations with total price between 290 and 310:\n"
          ]
        }
      ]
    }
  ]
}